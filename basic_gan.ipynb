{
 "cells": [
  {
   "cell_type": "code",
   "execution_count": 1,
   "metadata": {},
   "outputs": [],
   "source": [
    "import torch\n",
    "import torch.nn as nn\n",
    "import torch.optim as optim\n",
    "import torchvision.datasets as datasets\n",
    "from torch.utils.data import DataLoader\n",
    "from torchvision import transforms"
   ]
  },
  {
   "cell_type": "code",
   "execution_count": 2,
   "metadata": {},
   "outputs": [],
   "source": [
    "# hyperparameters config\n",
    "device = \"cuda\" if torch.cuda.is_available() else \"cpu\"\n",
    "lr = 3e-4\n",
    "z_dim = 64\n",
    "image_dim = 28 * 28 * 1 # 784\n",
    "batch_size = 32\n",
    "num_epochs = 50"
   ]
  },
  {
   "cell_type": "code",
   "execution_count": 3,
   "metadata": {},
   "outputs": [],
   "source": [
    "class Discriminator(nn.Module):\n",
    "    def __init__(self, img_dim):\n",
    "        super().__init__()\n",
    "        self.disc = nn.Sequential(\n",
    "            nn.Linear(img_dim, 512),\n",
    "            nn.BatchNorm1d(512),\n",
    "            nn.LeakyReLU(0.1),\n",
    "            nn.Linear(512, 128),\n",
    "            nn.BatchNorm1d(128),\n",
    "            nn.LeakyReLU(0.1),\n",
    "            nn.Linear(128, 1),\n",
    "            nn.Sigmoid(),\n",
    "        )\n",
    "    \n",
    "    def forward(self, x):\n",
    "        return self.disc(x)\n",
    "    \n",
    "class Generator(nn.Module):\n",
    "    def __init__(self, z_dim, img_dim):\n",
    "        super().__init__()\n",
    "        self.gen = nn.Sequential(\n",
    "            nn.Linear(z_dim, 256),\n",
    "            nn.BatchNorm1d(256),\n",
    "            nn.LeakyReLU(0.1),\n",
    "            nn.Linear(256, 512),\n",
    "            nn.BatchNorm1d(512),\n",
    "            nn.LeakyReLU(0.1),\n",
    "            nn.Linear(512, img_dim),\n",
    "            nn.BatchNorm1d(img_dim),\n",
    "            nn.Tanh(),\n",
    "        )\n",
    "\n",
    "    def forward(self, x):\n",
    "        return self.gen(x)"
   ]
  },
  {
   "cell_type": "code",
   "execution_count": 4,
   "metadata": {},
   "outputs": [],
   "source": [
    "disc = Discriminator(image_dim).to(device)\n",
    "gen = Generator(z_dim, image_dim).to(device)\n",
    "fixed_noise = torch.randn(batch_size, z_dim).to(device) # noise generation\n",
    "transforms = transforms.Compose(\n",
    "    [transforms.ToTensor(), transforms.Normalize((0.5,), (0.5,))]\n",
    ")\n",
    "dataset = datasets.MNIST(root=\"dataset/\", transform=transforms, download=True)\n",
    "loader = DataLoader(dataset, batch_size=batch_size, shuffle=True)\n",
    "opt_disc = optim.Adam(disc.parameters(), lr=lr)\n",
    "opt_gen = optim.Adam(gen.parameters(), lr=lr)\n",
    "criterion = nn.BCELoss()\n",
    "step = 0"
   ]
  },
  {
   "cell_type": "code",
   "execution_count": 5,
   "metadata": {},
   "outputs": [],
   "source": [
    "fixed_noise = torch.randn(batch_size, z_dim).to(device)"
   ]
  },
  {
   "cell_type": "code",
   "execution_count": 6,
   "metadata": {},
   "outputs": [
    {
     "name": "stdout",
     "output_type": "stream",
     "text": [
      "Epoch: 0\n",
      "Generator Training Loss: 3030.9529, Discriminator Training loss: 624.6818\n",
      "Epoch: 1\n",
      "Generator Training Loss: 5674.8613, Discriminator Training loss: 209.9402\n",
      "Epoch: 2\n",
      "Generator Training Loss: 5259.2168, Discriminator Training loss: 341.7864\n",
      "Epoch: 3\n",
      "Generator Training Loss: 3994.0066, Discriminator Training loss: 538.5546\n",
      "Epoch: 4\n",
      "Generator Training Loss: 3981.9773, Discriminator Training loss: 540.8971\n",
      "Epoch: 5\n",
      "Generator Training Loss: 4216.6484, Discriminator Training loss: 512.3004\n",
      "Epoch: 6\n",
      "Generator Training Loss: 4348.7896, Discriminator Training loss: 501.0727\n",
      "Epoch: 7\n",
      "Generator Training Loss: 4455.1592, Discriminator Training loss: 490.6758\n",
      "Epoch: 8\n",
      "Generator Training Loss: 4555.5068, Discriminator Training loss: 484.5996\n",
      "Epoch: 9\n",
      "Generator Training Loss: 4689.3926, Discriminator Training loss: 466.9357\n",
      "Epoch: 10\n",
      "Generator Training Loss: 4881.9902, Discriminator Training loss: 446.5625\n",
      "Epoch: 11\n",
      "Generator Training Loss: 4995.9497, Discriminator Training loss: 447.6678\n",
      "Epoch: 12\n",
      "Generator Training Loss: 5088.4590, Discriminator Training loss: 439.2513\n",
      "Epoch: 13\n",
      "Generator Training Loss: 5146.9312, Discriminator Training loss: 437.8244\n",
      "Epoch: 14\n",
      "Generator Training Loss: 5259.3760, Discriminator Training loss: 428.6881\n",
      "Epoch: 15\n",
      "Generator Training Loss: 5412.7705, Discriminator Training loss: 416.4183\n",
      "Epoch: 16\n",
      "Generator Training Loss: 5411.1084, Discriminator Training loss: 424.1320\n",
      "Epoch: 17\n",
      "Generator Training Loss: 5474.2935, Discriminator Training loss: 417.4641\n",
      "Epoch: 18\n",
      "Generator Training Loss: 5457.6064, Discriminator Training loss: 424.8036\n",
      "Epoch: 19\n",
      "Generator Training Loss: 5543.2622, Discriminator Training loss: 412.3690\n",
      "Epoch: 20\n",
      "Generator Training Loss: 5570.5996, Discriminator Training loss: 423.1872\n",
      "Epoch: 21\n",
      "Generator Training Loss: 5628.0518, Discriminator Training loss: 415.1305\n",
      "Epoch: 22\n",
      "Generator Training Loss: 5751.4268, Discriminator Training loss: 401.5753\n",
      "Epoch: 23\n",
      "Generator Training Loss: 5715.7617, Discriminator Training loss: 409.1188\n",
      "Epoch: 24\n",
      "Generator Training Loss: 5787.9883, Discriminator Training loss: 402.6195\n",
      "Epoch: 25\n",
      "Generator Training Loss: 5748.4062, Discriminator Training loss: 406.9622\n",
      "Epoch: 26\n",
      "Generator Training Loss: 5772.7700, Discriminator Training loss: 412.6536\n",
      "Epoch: 27\n",
      "Generator Training Loss: 5821.0181, Discriminator Training loss: 413.1635\n",
      "Epoch: 28\n",
      "Generator Training Loss: 5716.7158, Discriminator Training loss: 424.2740\n",
      "Epoch: 29\n",
      "Generator Training Loss: 5823.2759, Discriminator Training loss: 410.8465\n",
      "Epoch: 30\n",
      "Generator Training Loss: 5877.5918, Discriminator Training loss: 405.4823\n",
      "Epoch: 31\n",
      "Generator Training Loss: 6002.4248, Discriminator Training loss: 397.2250\n",
      "Epoch: 32\n",
      "Generator Training Loss: 5965.2681, Discriminator Training loss: 400.5667\n",
      "Epoch: 33\n",
      "Generator Training Loss: 6035.9126, Discriminator Training loss: 404.7075\n",
      "Epoch: 34\n",
      "Generator Training Loss: 6034.3940, Discriminator Training loss: 393.3390\n",
      "Epoch: 35\n",
      "Generator Training Loss: 6028.6436, Discriminator Training loss: 400.0730\n",
      "Epoch: 36\n",
      "Generator Training Loss: 6100.3896, Discriminator Training loss: 396.3409\n",
      "Epoch: 37\n",
      "Generator Training Loss: 6127.6016, Discriminator Training loss: 388.1848\n",
      "Epoch: 38\n",
      "Generator Training Loss: 6146.5542, Discriminator Training loss: 397.5954\n",
      "Epoch: 39\n",
      "Generator Training Loss: 6228.3892, Discriminator Training loss: 382.8860\n",
      "Epoch: 40\n",
      "Generator Training Loss: 6178.7822, Discriminator Training loss: 390.8882\n",
      "Epoch: 41\n",
      "Generator Training Loss: 6190.8091, Discriminator Training loss: 395.0556\n",
      "Epoch: 42\n",
      "Generator Training Loss: 6185.1436, Discriminator Training loss: 389.8163\n",
      "Epoch: 43\n",
      "Generator Training Loss: 6150.1182, Discriminator Training loss: 387.4753\n",
      "Epoch: 44\n",
      "Generator Training Loss: 6277.2061, Discriminator Training loss: 384.1758\n",
      "Epoch: 45\n",
      "Generator Training Loss: 6281.5244, Discriminator Training loss: 386.2520\n",
      "Epoch: 46\n",
      "Generator Training Loss: 6172.7437, Discriminator Training loss: 396.3042\n",
      "Epoch: 47\n",
      "Generator Training Loss: 6270.6523, Discriminator Training loss: 384.7039\n",
      "Epoch: 48\n",
      "Generator Training Loss: 6437.7930, Discriminator Training loss: 364.8989\n",
      "Epoch: 49\n",
      "Generator Training Loss: 6470.8335, Discriminator Training loss: 359.6576\n"
     ]
    }
   ],
   "source": [
    "for epoch in range(num_epochs):\n",
    "    gen_train_loss, disc_train_loss = 0.0, 0.0\n",
    "    for batch_idx, (real, _) in enumerate(loader):\n",
    "        real = real.view(-1, 784).to(device)\n",
    "        batch_size = real.shape[0]\n",
    "\n",
    "        # train discriminator\n",
    "        noise = torch.randn(batch_size, z_dim).to(device)\n",
    "        fake = gen(noise)\n",
    "        disc_real = disc(real).view(-1)\n",
    "        lossD_real = criterion(disc_real, torch.ones_like(disc_real))\n",
    "        disc_fake = disc(fake.detach()).view(-1)\n",
    "        lossD_fake = criterion(disc_fake, torch.zeros_like(disc_fake))\n",
    "        lossD = (lossD_real + lossD_fake) / 2\n",
    "        disc_train_loss += lossD\n",
    "        disc.zero_grad()\n",
    "        lossD.backward()\n",
    "        opt_disc.step()\n",
    "\n",
    "        # train generator\n",
    "        disc_output = disc(fake).view(-1)\n",
    "        lossG = criterion(disc_output, torch.ones_like(disc_output))\n",
    "        gen_train_loss += lossG\n",
    "        gen.zero_grad()\n",
    "        lossG.backward()\n",
    "        opt_gen.step()\n",
    "\n",
    "    print(f\"Epoch: {epoch}\\nGenerator Training Loss: {gen_train_loss:.4f}, Discriminator Training loss: {disc_train_loss:.4f}\")"
   ]
  },
  {
   "cell_type": "code",
   "execution_count": 28,
   "metadata": {},
   "outputs": [
    {
     "name": "stdout",
     "output_type": "stream",
     "text": [
      "tensor([[-0.5446,  0.9664, -0.8994,  ..., -0.8974, -0.3269,  0.4309],\n",
      "        [-0.0878,  0.2395,  0.0074,  ..., -0.6349, -1.2455, -0.3794],\n",
      "        [ 0.6357,  1.4191,  1.6754,  ..., -1.0055,  1.5891,  3.3953],\n",
      "        ...,\n",
      "        [ 0.0505,  1.1098,  0.2682,  ..., -0.3567,  1.7569,  0.3131],\n",
      "        [-2.9084, -1.0016,  2.3278,  ...,  0.6526, -0.1664,  1.9167],\n",
      "        [-1.1575, -0.0300,  1.0293,  ...,  0.2496,  1.2536, -1.3295]],\n",
      "       device='cuda:0')\n"
     ]
    }
   ],
   "source": [
    "fixed_noise = torch.randn(batch_size, z_dim).to(device)\n",
    "print(fixed_noise)"
   ]
  },
  {
   "cell_type": "code",
   "execution_count": 29,
   "metadata": {},
   "outputs": [],
   "source": [
    "image = gen(fixed_noise)"
   ]
  },
  {
   "cell_type": "code",
   "execution_count": 30,
   "metadata": {},
   "outputs": [
    {
     "name": "stdout",
     "output_type": "stream",
     "text": [
      "torch.Size([32, 784])\n"
     ]
    }
   ],
   "source": [
    "print(image.shape)"
   ]
  },
  {
   "cell_type": "code",
   "execution_count": 34,
   "metadata": {},
   "outputs": [],
   "source": [
    "img = image[0].reshape(28, 28, 1)"
   ]
  },
  {
   "cell_type": "code",
   "execution_count": 35,
   "metadata": {},
   "outputs": [
    {
     "name": "stdout",
     "output_type": "stream",
     "text": [
      "torch.Size([28, 28, 1])\n"
     ]
    }
   ],
   "source": [
    "print(img.shape)"
   ]
  },
  {
   "cell_type": "code",
   "execution_count": 36,
   "metadata": {},
   "outputs": [
    {
     "data": {
      "text/plain": [
       "<matplotlib.image.AxesImage at 0x1b403d0d520>"
      ]
     },
     "execution_count": 36,
     "metadata": {},
     "output_type": "execute_result"
    },
    {
     "data": {
      "image/png": "[encoded data removed]",
      "text/plain": [
       "<Figure size 640x480 with 1 Axes>"
      ]
     },
     "metadata": {},
     "output_type": "display_data"
    }
   ],
   "source": [
    "import matplotlib.pyplot as plt\n",
    "\n",
    "img = img.cpu().detach().numpy()\n",
    "plt.imshow(img)\n"
   ]
  },
  {
   "cell_type": "code",
   "execution_count": 38,
   "metadata": {},
   "outputs": [],
   "source": [
    "torch.save(disc.state_dict(), \"discriminator.pth\")\n",
    "torch.save(gen.state_dict(), \"generator.pth\")"
   ]
  },
  {
   "cell_type": "code",
   "execution_count": null,
   "metadata": {},
   "outputs": [],
   "source": []
  }
 ],
 "metadata": {
  "kernelspec": {
   "display_name": "gan",
   "language": "python",
   "name": "python3"
  },
  "language_info": {
   "codemirror_mode": {
    "name": "ipython",
    "version": 3
   },
   "file_extension": ".py",
   "mimetype": "text/x-python",
   "name": "python",
   "nbconvert_exporter": "python",
   "pygments_lexer": "ipython3",
   "version": "3.12.2"
  }
 },
 "nbformat": 4,
 "nbformat_minor": 2
}
